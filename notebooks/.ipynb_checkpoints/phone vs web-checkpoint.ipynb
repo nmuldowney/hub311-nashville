{
 "cells": [
  {
   "cell_type": "code",
   "execution_count": 1154,
   "metadata": {},
   "outputs": [],
   "source": [
    "import pandas as pd\n",
    "import numpy as np\n",
    "import matplotlib.pyplot as plt\n",
    "import seaborn as sns\n",
    "import geopandas as gpd\n",
    "from matplotlib import rcParams\n",
    "\n",
    "from shapely.geometry import Point\n",
    "import geopandas as gpd\n",
    "import folium\n",
    "from folium.plugins import MarkerCluster\n",
    "from folium.plugins import FastMarkerCluster"
   ]
  },
  {
   "cell_type": "code",
   "execution_count": 1155,
   "metadata": {},
   "outputs": [
    {
     "name": "stderr",
     "output_type": "stream",
     "text": [
      "/Users/nicolemuldowney/opt/anaconda3/envs/geo/lib/python3.7/site-packages/IPython/core/interactiveshell.py:3063: DtypeWarning: Columns (17) have mixed types.Specify dtype option on import or set low_memory=False.\n",
      "  interactivity=interactivity, compiler=compiler, result=result)\n"
     ]
    }
   ],
   "source": [
    "hub_nash=pd.read_csv('../data/hub_requests.csv')"
   ]
  },
  {
   "cell_type": "code",
   "execution_count": 1156,
   "metadata": {},
   "outputs": [],
   "source": [
    "#rcParams.keys"
   ]
  },
  {
   "cell_type": "code",
   "execution_count": 1157,
   "metadata": {
    "scrolled": true
   },
   "outputs": [
    {
     "data": {
      "text/html": [
       "<div>\n",
       "<style scoped>\n",
       "    .dataframe tbody tr th:only-of-type {\n",
       "        vertical-align: middle;\n",
       "    }\n",
       "\n",
       "    .dataframe tbody tr th {\n",
       "        vertical-align: top;\n",
       "    }\n",
       "\n",
       "    .dataframe thead th {\n",
       "        text-align: right;\n",
       "    }\n",
       "</style>\n",
       "<table border=\"1\" class=\"dataframe\">\n",
       "  <thead>\n",
       "    <tr style=\"text-align: right;\">\n",
       "      <th></th>\n",
       "      <th>Request #</th>\n",
       "      <th>Status</th>\n",
       "      <th>Request Type</th>\n",
       "      <th>Subrequest Type</th>\n",
       "      <th>Additional Subrequest Type</th>\n",
       "      <th>Date / Time Opened</th>\n",
       "      <th>Date / Time Closed</th>\n",
       "      <th>Request Origin</th>\n",
       "      <th>System of Origin ID</th>\n",
       "      <th>Contact Type</th>\n",
       "      <th>...</th>\n",
       "      <th>State Issue</th>\n",
       "      <th>Parent Request</th>\n",
       "      <th>Closed When Created</th>\n",
       "      <th>Address</th>\n",
       "      <th>City</th>\n",
       "      <th>Council District</th>\n",
       "      <th>ZIP</th>\n",
       "      <th>Latitude</th>\n",
       "      <th>Longitude</th>\n",
       "      <th>Mapped Location</th>\n",
       "    </tr>\n",
       "  </thead>\n",
       "  <tbody>\n",
       "    <tr>\n",
       "      <th>0</th>\n",
       "      <td>113016</td>\n",
       "      <td>Closed</td>\n",
       "      <td>Trash, Recycling &amp; Litter</td>\n",
       "      <td>Cart Service</td>\n",
       "      <td>Trash - Request an Additional Cart</td>\n",
       "      <td>10/30/2018 01:47:00 PM</td>\n",
       "      <td>03/05/2019 09:35:00 PM</td>\n",
       "      <td>Phone</td>\n",
       "      <td>NaN</td>\n",
       "      <td>NaN</td>\n",
       "      <td>...</td>\n",
       "      <td>False</td>\n",
       "      <td>NaN</td>\n",
       "      <td>False</td>\n",
       "      <td>2009 Upland Dr</td>\n",
       "      <td>NASHVILLE</td>\n",
       "      <td>7.0</td>\n",
       "      <td>37216</td>\n",
       "      <td>36.198638</td>\n",
       "      <td>-86.706659</td>\n",
       "      <td>(36.1986378, -86.7066586)</td>\n",
       "    </tr>\n",
       "    <tr>\n",
       "      <th>1</th>\n",
       "      <td>126185</td>\n",
       "      <td>Closed</td>\n",
       "      <td>Streets, Roads &amp; Sidewalks</td>\n",
       "      <td>Blocking the Right of Way</td>\n",
       "      <td>NaN</td>\n",
       "      <td>12/28/2018 01:04:00 PM</td>\n",
       "      <td>12/28/2018 01:04:00 PM</td>\n",
       "      <td>Phone</td>\n",
       "      <td>OE-00040610_12/27/2018 15:44</td>\n",
       "      <td>NaN</td>\n",
       "      <td>...</td>\n",
       "      <td>False</td>\n",
       "      <td>NaN</td>\n",
       "      <td>True</td>\n",
       "      <td>ELM HILL PKE / DONELSON PKE</td>\n",
       "      <td>NASHVILLE</td>\n",
       "      <td>15.0</td>\n",
       "      <td>37214</td>\n",
       "      <td>36.148809</td>\n",
       "      <td>-86.666282</td>\n",
       "      <td>(36.14880891, -86.6662816)</td>\n",
       "    </tr>\n",
       "    <tr>\n",
       "      <th>2</th>\n",
       "      <td>119344</td>\n",
       "      <td>Closed</td>\n",
       "      <td>Trash, Recycling &amp; Litter</td>\n",
       "      <td>Damage to Property</td>\n",
       "      <td>Trash Service</td>\n",
       "      <td>11/27/2018 02:20:00 PM</td>\n",
       "      <td>11/29/2018 04:04:00 AM</td>\n",
       "      <td>Phone</td>\n",
       "      <td>NaN</td>\n",
       "      <td>NaN</td>\n",
       "      <td>...</td>\n",
       "      <td>False</td>\n",
       "      <td>NaN</td>\n",
       "      <td>True</td>\n",
       "      <td>597 Westchester Dr, Nashville, TN 37115, Unite...</td>\n",
       "      <td>MADISON</td>\n",
       "      <td>8.0</td>\n",
       "      <td>37115</td>\n",
       "      <td>36.263020</td>\n",
       "      <td>-86.738630</td>\n",
       "      <td>(36.26302, -86.73863)</td>\n",
       "    </tr>\n",
       "    <tr>\n",
       "      <th>3</th>\n",
       "      <td>127752</td>\n",
       "      <td>Closed</td>\n",
       "      <td>Trash, Recycling &amp; Litter</td>\n",
       "      <td>New Service/Activate Service</td>\n",
       "      <td>New Construction Residential Recycle</td>\n",
       "      <td>01/03/2019 06:57:00 PM</td>\n",
       "      <td>01/09/2019 10:09:00 AM</td>\n",
       "      <td>Phone</td>\n",
       "      <td>NaN</td>\n",
       "      <td>NaN</td>\n",
       "      <td>...</td>\n",
       "      <td>False</td>\n",
       "      <td>NaN</td>\n",
       "      <td>False</td>\n",
       "      <td>Ruffian Way</td>\n",
       "      <td>NaN</td>\n",
       "      <td>NaN</td>\n",
       "      <td>NaN</td>\n",
       "      <td>38.097609</td>\n",
       "      <td>-84.554097</td>\n",
       "      <td>(38.0976091, -84.5540971)</td>\n",
       "    </tr>\n",
       "    <tr>\n",
       "      <th>4</th>\n",
       "      <td>113477</td>\n",
       "      <td>Closed</td>\n",
       "      <td>Trash, Recycling &amp; Litter</td>\n",
       "      <td>Backdoor Trash or Recycle Waivers</td>\n",
       "      <td>Request Recycling Disability Waiver</td>\n",
       "      <td>10/31/2018 12:20:00 PM</td>\n",
       "      <td>10/31/2018 04:10:00 PM</td>\n",
       "      <td>Phone</td>\n",
       "      <td>NaN</td>\n",
       "      <td>NaN</td>\n",
       "      <td>...</td>\n",
       "      <td>False</td>\n",
       "      <td>NaN</td>\n",
       "      <td>True</td>\n",
       "      <td>2326 Smith Springs Rd, Nashville, TN 37217, Un...</td>\n",
       "      <td>NASHVILLE</td>\n",
       "      <td>29.0</td>\n",
       "      <td>37217</td>\n",
       "      <td>36.096460</td>\n",
       "      <td>-86.637440</td>\n",
       "      <td>(36.09646, -86.63744)</td>\n",
       "    </tr>\n",
       "  </tbody>\n",
       "</table>\n",
       "<p>5 rows × 21 columns</p>\n",
       "</div>"
      ],
      "text/plain": [
       "   Request #  Status                Request Type  \\\n",
       "0     113016  Closed   Trash, Recycling & Litter   \n",
       "1     126185  Closed  Streets, Roads & Sidewalks   \n",
       "2     119344  Closed   Trash, Recycling & Litter   \n",
       "3     127752  Closed   Trash, Recycling & Litter   \n",
       "4     113477  Closed   Trash, Recycling & Litter   \n",
       "\n",
       "                     Subrequest Type            Additional Subrequest Type  \\\n",
       "0                       Cart Service    Trash - Request an Additional Cart   \n",
       "1          Blocking the Right of Way                                   NaN   \n",
       "2                 Damage to Property                         Trash Service   \n",
       "3       New Service/Activate Service  New Construction Residential Recycle   \n",
       "4  Backdoor Trash or Recycle Waivers   Request Recycling Disability Waiver   \n",
       "\n",
       "       Date / Time Opened      Date / Time Closed Request Origin  \\\n",
       "0  10/30/2018 01:47:00 PM  03/05/2019 09:35:00 PM          Phone   \n",
       "1  12/28/2018 01:04:00 PM  12/28/2018 01:04:00 PM          Phone   \n",
       "2  11/27/2018 02:20:00 PM  11/29/2018 04:04:00 AM          Phone   \n",
       "3  01/03/2019 06:57:00 PM  01/09/2019 10:09:00 AM          Phone   \n",
       "4  10/31/2018 12:20:00 PM  10/31/2018 04:10:00 PM          Phone   \n",
       "\n",
       "            System of Origin ID Contact Type  ...  State Issue  \\\n",
       "0                           NaN          NaN  ...        False   \n",
       "1  OE-00040610_12/27/2018 15:44          NaN  ...        False   \n",
       "2                           NaN          NaN  ...        False   \n",
       "3                           NaN          NaN  ...        False   \n",
       "4                           NaN          NaN  ...        False   \n",
       "\n",
       "   Parent Request  Closed When Created  \\\n",
       "0             NaN                False   \n",
       "1             NaN                 True   \n",
       "2             NaN                 True   \n",
       "3             NaN                False   \n",
       "4             NaN                 True   \n",
       "\n",
       "                                             Address       City  \\\n",
       "0                                     2009 Upland Dr  NASHVILLE   \n",
       "1                        ELM HILL PKE / DONELSON PKE  NASHVILLE   \n",
       "2  597 Westchester Dr, Nashville, TN 37115, Unite...    MADISON   \n",
       "3                                        Ruffian Way        NaN   \n",
       "4  2326 Smith Springs Rd, Nashville, TN 37217, Un...  NASHVILLE   \n",
       "\n",
       "  Council District    ZIP   Latitude  Longitude             Mapped Location  \n",
       "0              7.0  37216  36.198638 -86.706659   (36.1986378, -86.7066586)  \n",
       "1             15.0  37214  36.148809 -86.666282  (36.14880891, -86.6662816)  \n",
       "2              8.0  37115  36.263020 -86.738630       (36.26302, -86.73863)  \n",
       "3              NaN    NaN  38.097609 -84.554097   (38.0976091, -84.5540971)  \n",
       "4             29.0  37217  36.096460 -86.637440       (36.09646, -86.63744)  \n",
       "\n",
       "[5 rows x 21 columns]"
      ]
     },
     "execution_count": 1157,
     "metadata": {},
     "output_type": "execute_result"
    }
   ],
   "source": [
    "hub_nash.head()"
   ]
  },
  {
   "cell_type": "code",
   "execution_count": 1158,
   "metadata": {},
   "outputs": [
    {
     "name": "stdout",
     "output_type": "stream",
     "text": [
      "<class 'pandas.core.frame.DataFrame'>\n",
      "RangeIndex: 348671 entries, 0 to 348670\n",
      "Data columns (total 21 columns):\n",
      " #   Column                      Non-Null Count   Dtype  \n",
      "---  ------                      --------------   -----  \n",
      " 0   Request #                   348671 non-null  int64  \n",
      " 1   Status                      348671 non-null  object \n",
      " 2   Request Type                348603 non-null  object \n",
      " 3   Subrequest Type             338024 non-null  object \n",
      " 4   Additional Subrequest Type  180510 non-null  object \n",
      " 5   Date / Time Opened          348671 non-null  object \n",
      " 6   Date / Time Closed          338424 non-null  object \n",
      " 7   Request Origin              348671 non-null  object \n",
      " 8   System of Origin ID         26398 non-null   object \n",
      " 9   Contact Type                26129 non-null   object \n",
      " 10  Preferred Language          0 non-null       float64\n",
      " 11  State Issue                 348671 non-null  bool   \n",
      " 12  Parent Request              3589 non-null    float64\n",
      " 13  Closed When Created         348671 non-null  bool   \n",
      " 14  Address                     285058 non-null  object \n",
      " 15  City                        280771 non-null  object \n",
      " 16  Council District            280574 non-null  float64\n",
      " 17  ZIP                         280675 non-null  object \n",
      " 18  Latitude                    284188 non-null  float64\n",
      " 19  Longitude                   284188 non-null  float64\n",
      " 20  Mapped Location             284188 non-null  object \n",
      "dtypes: bool(2), float64(5), int64(1), object(13)\n",
      "memory usage: 51.2+ MB\n"
     ]
    }
   ],
   "source": [
    "hub_nash.info()"
   ]
  },
  {
   "cell_type": "markdown",
   "metadata": {},
   "source": [
    "Question 2 - Online vs phone by council district, could reveal differences in access?"
   ]
  },
  {
   "cell_type": "code",
   "execution_count": 1159,
   "metadata": {},
   "outputs": [
    {
     "data": {
      "text/plain": [
       "array(['Phone', 'hubNashville Community', 'Mobile App', 'Council Member',\n",
       "       \"Mayor's Office\", 'Email', 'Walk-In', \"Council's Website\",\n",
       "       \"Mayor's Website\", 'In Person at Event', 'Social Media',\n",
       "       'OEM Case', 'USPS Letter'], dtype=object)"
      ]
     },
     "execution_count": 1159,
     "metadata": {},
     "output_type": "execute_result"
    }
   ],
   "source": [
    "hub_nash['Request Origin'].unique()"
   ]
  },
  {
   "cell_type": "code",
   "execution_count": 1160,
   "metadata": {},
   "outputs": [
    {
     "data": {
      "text/plain": [
       "Phone                     244656\n",
       "hubNashville Community     88649\n",
       "Mobile App                 13051\n",
       "Email                       1721\n",
       "Mayor's Office               372\n",
       "Council Member               129\n",
       "Council's Website             50\n",
       "Walk-In                       18\n",
       "Mayor's Website                8\n",
       "In Person at Event             6\n",
       "USPS Letter                    5\n",
       "Social Media                   5\n",
       "OEM Case                       1\n",
       "Name: Request Origin, dtype: int64"
      ]
     },
     "execution_count": 1160,
     "metadata": {},
     "output_type": "execute_result"
    }
   ],
   "source": [
    "hub_nash['Request Origin'].value_counts()"
   ]
  },
  {
   "cell_type": "code",
   "execution_count": 1161,
   "metadata": {},
   "outputs": [
    {
     "data": {
      "text/plain": [
       "348671"
      ]
     },
     "execution_count": 1161,
     "metadata": {},
     "output_type": "execute_result"
    }
   ],
   "source": [
    "hub_nash['Request Origin'].value_counts().sum()"
   ]
  },
  {
   "cell_type": "code",
   "execution_count": 1162,
   "metadata": {},
   "outputs": [
    {
     "data": {
      "text/plain": [
       "array([37216.0, 37214.0, 37115.0, nan, 37217.0, 37013.0, 37206.0, 37207.0,\n",
       "       37203.0, 37076.0, 37209.0, 37027.0, 37215.0, 37218.0, 37211.0,\n",
       "       37205.0, 37208.0, 37210.0, 37080.0, 37204.0, 37212.0, 37220.0,\n",
       "       37219.0, 37221.0, 37138.0, 37072.0, 37201.0, 37086.0, 37228.0,\n",
       "       37189.0, 37015.0, 37213.0, 37135.0, 0.0, 37143.0, 37232.0, 37122.0,\n",
       "       37152.0, 37064.0, 37240.0, 37130.0, 37075.0, 38506.0, 37160.0,\n",
       "       37073.0, 37246.0, 37129.0, 37067.0, 37363.0, 37172.0, 38401.0,\n",
       "       37090.0, 37663.0, 37087.0, 37040.0, 37066.0, 37036.0, 372515.0,\n",
       "       '37217', '37204', '37208', '37013', '37210', '37203', '37211',\n",
       "       '37221', '37218', '37115', '37138', '37206', '37207', '37205',\n",
       "       '37214', '37215', '37209', '37076', '37212', '37027', '37219',\n",
       "       '37216', '37072', '37189', '37220', '37143', '37080', '37135',\n",
       "       '37201', '37213', '37228', '37086', '37015', '37122', 'TN',\n",
       "       '38011', '37240', '37246', '37064', '0'], dtype=object)"
      ]
     },
     "execution_count": 1162,
     "metadata": {},
     "output_type": "execute_result"
    }
   ],
   "source": [
    "hub_nash['ZIP'].unique()"
   ]
  },
  {
   "cell_type": "code",
   "execution_count": 1183,
   "metadata": {},
   "outputs": [],
   "source": [
    "#change zip code to integer so it groups - this is not working, we need to group \".0\" zip codes to others\n",
    "#hub_nash['ZIP'] = hub_nash['ZIP'].dropna()\n",
    "#hub_nash['ZIP'] = hub_nash['ZIP'].astype(int)\n",
    "#hub_nash"
   ]
  },
  {
   "cell_type": "markdown",
   "metadata": {},
   "source": [
    "Zip Code 37013 Analysis"
   ]
  },
  {
   "cell_type": "code",
   "execution_count": 1180,
   "metadata": {},
   "outputs": [
    {
     "data": {
      "text/plain": [
       "Cart Service                            793\n",
       "Missed Pickup - Trash Cart Service      592\n",
       "Missed Pickup - Recycle Cart Service    330\n",
       "New Service/Activate Service            303\n",
       "Blocking the Right of Way               299\n",
       "Name: Subrequest Type, dtype: int64"
      ]
     },
     "execution_count": 1180,
     "metadata": {},
     "output_type": "execute_result"
    }
   ],
   "source": [
    "zip_37013_phone = hub_nash.loc[(hub_nash['ZIP'] == \"37013\")& (hub_nash['Request Origin']=='Phone')]\n",
    "zip_37013_phone = zip_37013_phone['Subrequest Type'].value_counts().head()\n",
    "zip_37013_phone"
   ]
  },
  {
   "cell_type": "code",
   "execution_count": 1181,
   "metadata": {},
   "outputs": [
    {
     "data": {
      "image/png": "[encoded data removed]",
      "text/plain": [
       "<Figure size 432x576 with 1 Axes>"
      ]
     },
     "metadata": {
      "needs_background": "light"
     },
     "output_type": "display_data"
    }
   ],
   "source": [
    "colors = ['#2E3A90']\n",
    "ssfont = {'fontname':'sans-serif'}\n",
    "\n",
    "zip_37013_phone.plot(kind='barh',x='Subrequest Type',figsize = (6,8),width = .9,edgecolor = 'white',color = colors)\n",
    "plt.xlabel('Count of Requests')\n",
    "plt.ylabel('Type of Subrequests')\n",
    "plt.title('Phone Requests for 37013',**ssfont);"
   ]
  },
  {
   "cell_type": "code",
   "execution_count": 1176,
   "metadata": {},
   "outputs": [
    {
     "data": {
      "text/plain": [
       "Hands On Volunteers                   2613\n",
       "Control Number Request for Towing     1425\n",
       "Junk and Debris                        785\n",
       "Illegal Dumping                        508\n",
       "Missed Pickup - Trash Cart Service     499\n",
       "Name: Subrequest Type, dtype: int64"
      ]
     },
     "execution_count": 1176,
     "metadata": {},
     "output_type": "execute_result"
    }
   ],
   "source": [
    "zip_37013_online = hub_nash.loc[(hub_nash['ZIP'] == \"37013\")& (hub_nash['Request Origin']=='hubNashville Community')|(hub_nash['Request Origin']=='Mobile App')]\n",
    "zip_37013_online= zip_37013_online['Subrequest Type'].value_counts().head()\n",
    "zip_37013_online"
   ]
  },
  {
   "cell_type": "code",
   "execution_count": 1178,
   "metadata": {},
   "outputs": [
    {
     "data": {
      "image/png": "[encoded data removed]",
      "text/plain": [
       "<Figure size 432x576 with 1 Axes>"
      ]
     },
     "metadata": {
      "needs_background": "light"
     },
     "output_type": "display_data"
    }
   ],
   "source": [
    "colors = ['#FFDD85']\n",
    "ssfont = {'fontname':'sans-serif'}\n",
    "\n",
    "zip_37013_online.plot(kind='barh',x='Subrequest Type',figsize = (6,8),width = .9,edgecolor = 'white',color = colors)\n",
    "plt.xlabel('Count of Requests')\n",
    "plt.ylabel('Type of Subrequests')\n",
    "plt.title('Online Requests for 37013',**ssfont);"
   ]
  },
  {
   "cell_type": "markdown",
   "metadata": {},
   "source": [
    "Zip Code 37219 Analysis"
   ]
  },
  {
   "cell_type": "code",
   "execution_count": 1164,
   "metadata": {},
   "outputs": [],
   "source": [
    "#phone subrequests for 37219\n",
    "zip_37219_phone = hub_nash.loc[(hub_nash['ZIP'] == \"37219\")& (hub_nash['Request Origin']=='Phone')]\n",
    "zip_37219_phone_chart = zip_37219_phone['Subrequest Type'].value_counts().head(5)  "
   ]
  },
  {
   "cell_type": "code",
   "execution_count": 1184,
   "metadata": {},
   "outputs": [
    {
     "data": {
      "text/plain": [
       "Traffic Light Issue          21\n",
       "Blocking the Right of Way    18\n",
       "Quick Requests               12\n",
       "Other-Trash / Recycle         8\n",
       "Snow and Ice Removal          4\n",
       "Name: Subrequest Type, dtype: int64"
      ]
     },
     "execution_count": 1184,
     "metadata": {},
     "output_type": "execute_result"
    }
   ],
   "source": [
    "zip_37219_phone['Subrequest Type'].value_counts().head()"
   ]
  },
  {
   "cell_type": "code",
   "execution_count": 1185,
   "metadata": {},
   "outputs": [
    {
     "data": {
      "image/png": "[encoded data removed]",
      "text/plain": [
       "<Figure size 432x576 with 1 Axes>"
      ]
     },
     "metadata": {
      "needs_background": "light"
     },
     "output_type": "display_data"
    }
   ],
   "source": [
    "colors = ['#2E3A90','#FFDD85','#00FFFF']\n",
    "ssfont = {'fontname':'sans-serif'}\n",
    "\n",
    "zip_37219_phone_chart.plot(kind='barh',x='Subrequest Type',figsize = (6,8),width = .9,edgecolor = 'white',color = colors)\n",
    "plt.xlabel('Count of Requests')\n",
    "plt.ylabel('Type of Subrequests')\n",
    "plt.title('Phone Requests for 37219',**ssfont);"
   ]
  },
  {
   "cell_type": "code",
   "execution_count": 1186,
   "metadata": {},
   "outputs": [],
   "source": [
    "#online subrequests for 37219\n",
    "zip_37219_online = hub_nash.loc[(hub_nash['ZIP'] == '37219')& (hub_nash['Request Origin']=='hubNashville Community')|(hub_nash['Request Origin']=='Mobile App')]\n",
    "zip_37219_online_chart = zip_37219_online['Subrequest Type'].value_counts().head(5)"
   ]
  },
  {
   "cell_type": "code",
   "execution_count": 1187,
   "metadata": {},
   "outputs": [
    {
     "data": {
      "image/png": "[encoded data removed]",
      "text/plain": [
       "<Figure size 432x576 with 1 Axes>"
      ]
     },
     "metadata": {
      "needs_background": "light"
     },
     "output_type": "display_data"
    }
   ],
   "source": [
    "colors = ['#FFDD85']#'#FFDD85','#00FFFF']\n",
    "ssfont = {'fontname':'sans-serif'}\n",
    "\n",
    "zip_37219_online_chart.plot(kind='barh',x='Subrequest Type',figsize = (6,8),width = .9,edgecolor = 'white',color = colors)\n",
    "plt.xlabel('Count of Requests')\n",
    "plt.ylabel('Type of Subrequests')\n",
    "plt.title('Online Requests for 37219',**ssfont);"
   ]
  },
  {
   "cell_type": "markdown",
   "metadata": {},
   "source": [
    "# Online Requests - Group request origin to online(hubNashville Community, Moblie App), phone, and other"
   ]
  },
  {
   "cell_type": "code",
   "execution_count": 1035,
   "metadata": {},
   "outputs": [
    {
     "data": {
      "text/plain": [
       "(101700, 21)"
      ]
     },
     "execution_count": 1035,
     "metadata": {},
     "output_type": "execute_result"
    }
   ],
   "source": [
    "online_methods = ['hubNashville Community','Mobile App']\n",
    "online_request_method = hub_nash[hub_nash['Request Origin'].isin(online_methods)]\n",
    "online_request_method.shape"
   ]
  },
  {
   "cell_type": "code",
   "execution_count": 1036,
   "metadata": {},
   "outputs": [
    {
     "data": {
      "text/plain": [
       "19.0    9146\n",
       "21.0    6079\n",
       "6.0     5452\n",
       "17.0    5046\n",
       "24.0    4355\n",
       "5.0     4283\n",
       "20.0    4263\n",
       "7.0     3342\n",
       "25.0    3162\n",
       "15.0    3152\n",
       "Name: Council District, dtype: int64"
      ]
     },
     "execution_count": 1036,
     "metadata": {},
     "output_type": "execute_result"
    }
   ],
   "source": [
    "online_request_method['Council District'].value_counts().head(10)"
   ]
  },
  {
   "cell_type": "code",
   "execution_count": 1037,
   "metadata": {},
   "outputs": [
    {
     "data": {
      "text/plain": [
       "NASHVILLE          75403\n",
       "ANTIOCH             7673\n",
       "MADISON             4269\n",
       "HERMITAGE           2503\n",
       "OLD HICKORY         1135\n",
       "BRENTWOOD            997\n",
       "GOODLETTSVILLE       581\n",
       "WHITES CREEK         316\n",
       "JOELTON              248\n",
       "Nashville            102\n",
       "ASHLAND CITY          84\n",
       "NOLENSVILLE           66\n",
       "NASHVILLE, TN         43\n",
       "PEGRAM                32\n",
       "LA VERGNE             27\n",
       "MOUNT JULIET          21\n",
       "LAVERGNE              21\n",
       "Antioch                7\n",
       "FRANKLIN               7\n",
       "Hermitage              4\n",
       "ANTIOCH, TN            4\n",
       "Nashville, TN          3\n",
       "Nashvillle             2\n",
       "Madison                2\n",
       "BELLEVUE               2\n",
       "HERMITAGE, TN          2\n",
       "NASHVILLE,TN           2\n",
       "Nashville,TN           1\n",
       "UNKNOWN                1\n",
       "Nashville TN           1\n",
       "OLD HICKORY, TN        1\n",
       "Mt. Juliet             1\n",
       "Goodlettsville         1\n",
       "Hermitage, TN          1\n",
       "Old Hickory            1\n",
       "Name: City, dtype: int64"
      ]
     },
     "execution_count": 1037,
     "metadata": {},
     "output_type": "execute_result"
    }
   ],
   "source": [
    "online_request_method['City'].value_counts()  #should clean city data to aggregate/group and fix errors"
   ]
  },
  {
   "cell_type": "markdown",
   "metadata": {},
   "source": [
    "## Phone Requests"
   ]
  },
  {
   "cell_type": "code",
   "execution_count": 1188,
   "metadata": {},
   "outputs": [
    {
     "data": {
      "text/plain": [
       "(244656, 21)"
      ]
     },
     "execution_count": 1188,
     "metadata": {},
     "output_type": "execute_result"
    }
   ],
   "source": [
    "phone_request_method = hub_nash.loc[(hub_nash['Request Origin'] == \"Phone\")]\n",
    "phone_request_method.shape"
   ]
  },
  {
   "cell_type": "code",
   "execution_count": 1189,
   "metadata": {},
   "outputs": [
    {
     "data": {
      "text/plain": [
       "21.0    9765\n",
       "19.0    9518\n",
       "6.0     8961\n",
       "5.0     8474\n",
       "17.0    8319\n",
       "Name: Council District, dtype: int64"
      ]
     },
     "execution_count": 1189,
     "metadata": {},
     "output_type": "execute_result"
    }
   ],
   "source": [
    "phone_request_method['Council District'].value_counts().head()"
   ]
  },
  {
   "cell_type": "code",
   "execution_count": 1190,
   "metadata": {},
   "outputs": [
    {
     "data": {
      "text/html": [
       "<div>\n",
       "<style scoped>\n",
       "    .dataframe tbody tr th:only-of-type {\n",
       "        vertical-align: middle;\n",
       "    }\n",
       "\n",
       "    .dataframe tbody tr th {\n",
       "        vertical-align: top;\n",
       "    }\n",
       "\n",
       "    .dataframe thead th {\n",
       "        text-align: right;\n",
       "    }\n",
       "</style>\n",
       "<table border=\"1\" class=\"dataframe\">\n",
       "  <thead>\n",
       "    <tr style=\"text-align: right;\">\n",
       "      <th></th>\n",
       "      <th>Zip_Code</th>\n",
       "      <th>Request_Count</th>\n",
       "    </tr>\n",
       "  </thead>\n",
       "  <tbody>\n",
       "    <tr>\n",
       "      <th>0</th>\n",
       "      <td>37013</td>\n",
       "      <td>13836</td>\n",
       "    </tr>\n",
       "    <tr>\n",
       "      <th>1</th>\n",
       "      <td>37211</td>\n",
       "      <td>12751</td>\n",
       "    </tr>\n",
       "    <tr>\n",
       "      <th>2</th>\n",
       "      <td>37209</td>\n",
       "      <td>11103</td>\n",
       "    </tr>\n",
       "    <tr>\n",
       "      <th>3</th>\n",
       "      <td>37207</td>\n",
       "      <td>10712</td>\n",
       "    </tr>\n",
       "    <tr>\n",
       "      <th>4</th>\n",
       "      <td>37206</td>\n",
       "      <td>9877</td>\n",
       "    </tr>\n",
       "  </tbody>\n",
       "</table>\n",
       "</div>"
      ],
      "text/plain": [
       "  Zip_Code  Request_Count\n",
       "0    37013          13836\n",
       "1    37211          12751\n",
       "2    37209          11103\n",
       "3    37207          10712\n",
       "4    37206           9877"
      ]
     },
     "execution_count": 1190,
     "metadata": {},
     "output_type": "execute_result"
    }
   ],
   "source": [
    "phone_zip_df = phone_request_method['ZIP'].value_counts().reset_index()\n",
    "phone_zip_df.columns = ['Zip_Code','Request_Count']\n",
    "phone_zip_df.head()"
   ]
  },
  {
   "cell_type": "code",
   "execution_count": 1041,
   "metadata": {},
   "outputs": [
    {
     "data": {
      "text/html": [
       "<div>\n",
       "<style scoped>\n",
       "    .dataframe tbody tr th:only-of-type {\n",
       "        vertical-align: middle;\n",
       "    }\n",
       "\n",
       "    .dataframe tbody tr th {\n",
       "        vertical-align: top;\n",
       "    }\n",
       "\n",
       "    .dataframe thead th {\n",
       "        text-align: right;\n",
       "    }\n",
       "</style>\n",
       "<table border=\"1\" class=\"dataframe\">\n",
       "  <thead>\n",
       "    <tr style=\"text-align: right;\">\n",
       "      <th></th>\n",
       "      <th>Zip_Code</th>\n",
       "      <th>Request_Count</th>\n",
       "      <th>Request_Type</th>\n",
       "    </tr>\n",
       "  </thead>\n",
       "  <tbody>\n",
       "    <tr>\n",
       "      <th>0</th>\n",
       "      <td>37013</td>\n",
       "      <td>13836</td>\n",
       "      <td>phone</td>\n",
       "    </tr>\n",
       "    <tr>\n",
       "      <th>1</th>\n",
       "      <td>37211</td>\n",
       "      <td>12751</td>\n",
       "      <td>phone</td>\n",
       "    </tr>\n",
       "    <tr>\n",
       "      <th>2</th>\n",
       "      <td>37209</td>\n",
       "      <td>11103</td>\n",
       "      <td>phone</td>\n",
       "    </tr>\n",
       "    <tr>\n",
       "      <th>3</th>\n",
       "      <td>37207</td>\n",
       "      <td>10712</td>\n",
       "      <td>phone</td>\n",
       "    </tr>\n",
       "    <tr>\n",
       "      <th>4</th>\n",
       "      <td>37206</td>\n",
       "      <td>9877</td>\n",
       "      <td>phone</td>\n",
       "    </tr>\n",
       "  </tbody>\n",
       "</table>\n",
       "</div>"
      ],
      "text/plain": [
       "  Zip_Code  Request_Count Request_Type\n",
       "0    37013          13836        phone\n",
       "1    37211          12751        phone\n",
       "2    37209          11103        phone\n",
       "3    37207          10712        phone\n",
       "4    37206           9877        phone"
      ]
     },
     "execution_count": 1041,
     "metadata": {},
     "output_type": "execute_result"
    }
   ],
   "source": [
    "phone_zip_df['Request_Type'] = 'phone'\n",
    "phone_zip_df.head()"
   ]
  },
  {
   "cell_type": "code",
   "execution_count": 1042,
   "metadata": {},
   "outputs": [
    {
     "data": {
      "text/plain": [
       "NASHVILLE    147044\n",
       "ANTIOCH       17844\n",
       "MADISON        9705\n",
       "HERMITAGE      3039\n",
       "BRENTWOOD      2436\n",
       "Name: City, dtype: int64"
      ]
     },
     "execution_count": 1042,
     "metadata": {},
     "output_type": "execute_result"
    }
   ],
   "source": [
    "phone_request_method['City'].value_counts().head()"
   ]
  },
  {
   "cell_type": "markdown",
   "metadata": {},
   "source": [
    "# All other request orgins besides phone and web"
   ]
  },
  {
   "cell_type": "code",
   "execution_count": 1191,
   "metadata": {},
   "outputs": [
    {
     "data": {
      "text/plain": [
       "(2315, 21)"
      ]
     },
     "execution_count": 1191,
     "metadata": {},
     "output_type": "execute_result"
    }
   ],
   "source": [
    "other_methods = ['Email', 'Social Media',\"Mayor's Office\",'Council Member',\"Council's Website\",'Walk-In', \"Mayor's Website\", 'In Person at Event','USPS Letter','Social Media', 'OEM Case']\n",
    "other_request_method = hub_nash[hub_nash['Request Origin'].isin(other_methods)]\n",
    "other_request_method.shape"
   ]
  },
  {
   "cell_type": "code",
   "execution_count": 1044,
   "metadata": {},
   "outputs": [
    {
     "data": {
      "text/html": [
       "<div>\n",
       "<style scoped>\n",
       "    .dataframe tbody tr th:only-of-type {\n",
       "        vertical-align: middle;\n",
       "    }\n",
       "\n",
       "    .dataframe tbody tr th {\n",
       "        vertical-align: top;\n",
       "    }\n",
       "\n",
       "    .dataframe thead th {\n",
       "        text-align: right;\n",
       "    }\n",
       "</style>\n",
       "<table border=\"1\" class=\"dataframe\">\n",
       "  <thead>\n",
       "    <tr style=\"text-align: right;\">\n",
       "      <th></th>\n",
       "      <th>Zip_Code</th>\n",
       "      <th>Request_Count</th>\n",
       "    </tr>\n",
       "  </thead>\n",
       "  <tbody>\n",
       "    <tr>\n",
       "      <th>0</th>\n",
       "      <td>37209</td>\n",
       "      <td>6455</td>\n",
       "    </tr>\n",
       "    <tr>\n",
       "      <th>1</th>\n",
       "      <td>37211</td>\n",
       "      <td>6077</td>\n",
       "    </tr>\n",
       "    <tr>\n",
       "      <th>2</th>\n",
       "      <td>37206</td>\n",
       "      <td>5803</td>\n",
       "    </tr>\n",
       "    <tr>\n",
       "      <th>3</th>\n",
       "      <td>37013</td>\n",
       "      <td>5696</td>\n",
       "    </tr>\n",
       "    <tr>\n",
       "      <th>4</th>\n",
       "      <td>37208</td>\n",
       "      <td>5400</td>\n",
       "    </tr>\n",
       "  </tbody>\n",
       "</table>\n",
       "</div>"
      ],
      "text/plain": [
       "  Zip_Code  Request_Count\n",
       "0    37209           6455\n",
       "1    37211           6077\n",
       "2    37206           5803\n",
       "3    37013           5696\n",
       "4    37208           5400"
      ]
     },
     "execution_count": 1044,
     "metadata": {},
     "output_type": "execute_result"
    }
   ],
   "source": [
    "online_zip_df = online_request_method['ZIP'].value_counts().reset_index()\n",
    "online_zip_df.columns = ['Zip_Code','Request_Count']\n",
    "online_zip_df.head()"
   ]
  },
  {
   "cell_type": "code",
   "execution_count": 1045,
   "metadata": {},
   "outputs": [
    {
     "data": {
      "text/html": [
       "<div>\n",
       "<style scoped>\n",
       "    .dataframe tbody tr th:only-of-type {\n",
       "        vertical-align: middle;\n",
       "    }\n",
       "\n",
       "    .dataframe tbody tr th {\n",
       "        vertical-align: top;\n",
       "    }\n",
       "\n",
       "    .dataframe thead th {\n",
       "        text-align: right;\n",
       "    }\n",
       "</style>\n",
       "<table border=\"1\" class=\"dataframe\">\n",
       "  <thead>\n",
       "    <tr style=\"text-align: right;\">\n",
       "      <th></th>\n",
       "      <th>Zip_Code</th>\n",
       "      <th>Request_Count</th>\n",
       "      <th>Request_Type</th>\n",
       "    </tr>\n",
       "  </thead>\n",
       "  <tbody>\n",
       "    <tr>\n",
       "      <th>0</th>\n",
       "      <td>37209</td>\n",
       "      <td>6455</td>\n",
       "      <td>online</td>\n",
       "    </tr>\n",
       "    <tr>\n",
       "      <th>1</th>\n",
       "      <td>37211</td>\n",
       "      <td>6077</td>\n",
       "      <td>online</td>\n",
       "    </tr>\n",
       "    <tr>\n",
       "      <th>2</th>\n",
       "      <td>37206</td>\n",
       "      <td>5803</td>\n",
       "      <td>online</td>\n",
       "    </tr>\n",
       "    <tr>\n",
       "      <th>3</th>\n",
       "      <td>37013</td>\n",
       "      <td>5696</td>\n",
       "      <td>online</td>\n",
       "    </tr>\n",
       "    <tr>\n",
       "      <th>4</th>\n",
       "      <td>37208</td>\n",
       "      <td>5400</td>\n",
       "      <td>online</td>\n",
       "    </tr>\n",
       "  </tbody>\n",
       "</table>\n",
       "</div>"
      ],
      "text/plain": [
       "  Zip_Code  Request_Count Request_Type\n",
       "0    37209           6455       online\n",
       "1    37211           6077       online\n",
       "2    37206           5803       online\n",
       "3    37013           5696       online\n",
       "4    37208           5400       online"
      ]
     },
     "execution_count": 1045,
     "metadata": {},
     "output_type": "execute_result"
    }
   ],
   "source": [
    "online_zip_df['Request_Type'] = 'online'\n",
    "online_zip_df.head()"
   ]
  },
  {
   "cell_type": "code",
   "execution_count": 1192,
   "metadata": {},
   "outputs": [
    {
     "data": {
      "text/plain": [
       "6.0     128\n",
       "25.0    117\n",
       "19.0    117\n",
       "24.0    105\n",
       "7.0     103\n",
       "Name: Council District, dtype: int64"
      ]
     },
     "execution_count": 1192,
     "metadata": {},
     "output_type": "execute_result"
    }
   ],
   "source": [
    "other_request_method['Council District'].value_counts().head()"
   ]
  },
  {
   "cell_type": "code",
   "execution_count": 1047,
   "metadata": {},
   "outputs": [
    {
     "data": {
      "text/html": [
       "<div>\n",
       "<style scoped>\n",
       "    .dataframe tbody tr th:only-of-type {\n",
       "        vertical-align: middle;\n",
       "    }\n",
       "\n",
       "    .dataframe tbody tr th {\n",
       "        vertical-align: top;\n",
       "    }\n",
       "\n",
       "    .dataframe thead th {\n",
       "        text-align: right;\n",
       "    }\n",
       "</style>\n",
       "<table border=\"1\" class=\"dataframe\">\n",
       "  <thead>\n",
       "    <tr style=\"text-align: right;\">\n",
       "      <th></th>\n",
       "      <th>Zip_Code</th>\n",
       "      <th>Request_Count</th>\n",
       "    </tr>\n",
       "  </thead>\n",
       "  <tbody>\n",
       "    <tr>\n",
       "      <th>0</th>\n",
       "      <td>37211</td>\n",
       "      <td>139</td>\n",
       "    </tr>\n",
       "    <tr>\n",
       "      <th>1</th>\n",
       "      <td>37209</td>\n",
       "      <td>127</td>\n",
       "    </tr>\n",
       "    <tr>\n",
       "      <th>2</th>\n",
       "      <td>37206</td>\n",
       "      <td>126</td>\n",
       "    </tr>\n",
       "    <tr>\n",
       "      <th>3</th>\n",
       "      <td>37215</td>\n",
       "      <td>106</td>\n",
       "    </tr>\n",
       "    <tr>\n",
       "      <th>4</th>\n",
       "      <td>37216</td>\n",
       "      <td>84</td>\n",
       "    </tr>\n",
       "  </tbody>\n",
       "</table>\n",
       "</div>"
      ],
      "text/plain": [
       "  Zip_Code  Request_Count\n",
       "0    37211            139\n",
       "1    37209            127\n",
       "2    37206            126\n",
       "3    37215            106\n",
       "4    37216             84"
      ]
     },
     "execution_count": 1047,
     "metadata": {},
     "output_type": "execute_result"
    }
   ],
   "source": [
    "other_zip_df = other_request_method['ZIP'].value_counts().reset_index()\n",
    "other_zip_df.columns = ['Zip_Code','Request_Count']\n",
    "other_zip_df.head()"
   ]
  },
  {
   "cell_type": "code",
   "execution_count": 1048,
   "metadata": {},
   "outputs": [
    {
     "data": {
      "text/html": [
       "<div>\n",
       "<style scoped>\n",
       "    .dataframe tbody tr th:only-of-type {\n",
       "        vertical-align: middle;\n",
       "    }\n",
       "\n",
       "    .dataframe tbody tr th {\n",
       "        vertical-align: top;\n",
       "    }\n",
       "\n",
       "    .dataframe thead th {\n",
       "        text-align: right;\n",
       "    }\n",
       "</style>\n",
       "<table border=\"1\" class=\"dataframe\">\n",
       "  <thead>\n",
       "    <tr style=\"text-align: right;\">\n",
       "      <th></th>\n",
       "      <th>Zip_Code</th>\n",
       "      <th>Request_Count</th>\n",
       "      <th>Request_Type</th>\n",
       "    </tr>\n",
       "  </thead>\n",
       "  <tbody>\n",
       "    <tr>\n",
       "      <th>0</th>\n",
       "      <td>37211</td>\n",
       "      <td>139</td>\n",
       "      <td>other</td>\n",
       "    </tr>\n",
       "    <tr>\n",
       "      <th>1</th>\n",
       "      <td>37209</td>\n",
       "      <td>127</td>\n",
       "      <td>other</td>\n",
       "    </tr>\n",
       "    <tr>\n",
       "      <th>2</th>\n",
       "      <td>37206</td>\n",
       "      <td>126</td>\n",
       "      <td>other</td>\n",
       "    </tr>\n",
       "    <tr>\n",
       "      <th>3</th>\n",
       "      <td>37215</td>\n",
       "      <td>106</td>\n",
       "      <td>other</td>\n",
       "    </tr>\n",
       "    <tr>\n",
       "      <th>4</th>\n",
       "      <td>37216</td>\n",
       "      <td>84</td>\n",
       "      <td>other</td>\n",
       "    </tr>\n",
       "  </tbody>\n",
       "</table>\n",
       "</div>"
      ],
      "text/plain": [
       "  Zip_Code  Request_Count Request_Type\n",
       "0    37211            139        other\n",
       "1    37209            127        other\n",
       "2    37206            126        other\n",
       "3    37215            106        other\n",
       "4    37216             84        other"
      ]
     },
     "execution_count": 1048,
     "metadata": {},
     "output_type": "execute_result"
    }
   ],
   "source": [
    "other_zip_df['Request_Type'] = 'other'\n",
    "other_zip_df.head()"
   ]
  },
  {
   "cell_type": "code",
   "execution_count": 1049,
   "metadata": {},
   "outputs": [
    {
     "data": {
      "text/plain": [
       "37211    139\n",
       "37209    127\n",
       "37206    126\n",
       "37215    106\n",
       "37216     84\n",
       "37013     81\n",
       "37208     77\n",
       "37212     75\n",
       "37207     75\n",
       "37203     71\n",
       "Name: ZIP, dtype: int64"
      ]
     },
     "execution_count": 1049,
     "metadata": {},
     "output_type": "execute_result"
    }
   ],
   "source": [
    "other_request_method['ZIP'].value_counts().head(10) \n",
    "#need to clean some zip codes for no decimals and trailing 0 to aggregate these better"
   ]
  },
  {
   "cell_type": "code",
   "execution_count": 1050,
   "metadata": {},
   "outputs": [
    {
     "data": {
      "text/plain": [
       "NASHVILLE    1631\n",
       "ANTIOCH       128\n",
       "MADISON        71\n",
       "HERMITAGE      39\n",
       "Nashville      24\n",
       "Name: City, dtype: int64"
      ]
     },
     "execution_count": 1050,
     "metadata": {},
     "output_type": "execute_result"
    }
   ],
   "source": [
    "other_request_method['City'].value_counts().head()"
   ]
  },
  {
   "cell_type": "code",
   "execution_count": 1051,
   "metadata": {
    "scrolled": true
   },
   "outputs": [
    {
     "data": {
      "text/plain": [
       "Quick Requests                                       54141\n",
       "Cart Service                                         28946\n",
       "Missed Pickup - Trash Cart Service                   19242\n",
       "File a Trash or Recycling Complaint                  15353\n",
       "Blocking the Right of Way                            14483\n",
       "                                                     ...  \n",
       "Event Permit Request                                     1\n",
       "Request Fire Truck for Event Appearance                  1\n",
       "Request Officer for Event Appearance                     1\n",
       "Community Centers                                        1\n",
       "MEANS (Metro Emergency Alert Notification System)        1\n",
       "Name: Subrequest Type, Length: 160, dtype: int64"
      ]
     },
     "execution_count": 1051,
     "metadata": {},
     "output_type": "execute_result"
    }
   ],
   "source": [
    "phone_request_method['Subrequest Type'].value_counts()"
   ]
  },
  {
   "cell_type": "code",
   "execution_count": 1052,
   "metadata": {},
   "outputs": [
    {
     "data": {
      "text/plain": [
       "Cart Service                            9185\n",
       "Missed Pickup - Trash Cart Service      6926\n",
       "Control Number Request for Towing       6016\n",
       "Missed Pickup - Recycle Cart Service    5834\n",
       "Junk and Debris                         4557\n",
       "                                        ... \n",
       "Public Record Request                      1\n",
       "Cross Drains                               1\n",
       "Permits for Driveway                       1\n",
       "Airport Authority                          1\n",
       "Bike Share                                 1\n",
       "Name: Subrequest Type, Length: 170, dtype: int64"
      ]
     },
     "execution_count": 1052,
     "metadata": {},
     "output_type": "execute_result"
    }
   ],
   "source": [
    "online_request_method['Subrequest Type'].value_counts()"
   ]
  },
  {
   "cell_type": "code",
   "execution_count": 1054,
   "metadata": {},
   "outputs": [],
   "source": [
    "request_counts_dict = {'phone': len(phone_request_method), 'online': len(online_request_method), 'other': len(other_request_method)}"
   ]
  },
  {
   "cell_type": "code",
   "execution_count": 1055,
   "metadata": {},
   "outputs": [
    {
     "name": "stdout",
     "output_type": "stream",
     "text": [
      "{'phone': 244656, 'online': 101700, 'other': 2315}\n"
     ]
    }
   ],
   "source": [
    "print(request_counts_dict)"
   ]
  },
  {
   "cell_type": "markdown",
   "metadata": {},
   "source": [
    "Merge phone and online dfs"
   ]
  },
  {
   "cell_type": "code",
   "execution_count": 1194,
   "metadata": {},
   "outputs": [],
   "source": [
    "merge1 = pd.merge(phone_zip_df, online_zip_df, on = 'Zip_Code',how = 'outer')"
   ]
  },
  {
   "cell_type": "code",
   "execution_count": 1057,
   "metadata": {},
   "outputs": [
    {
     "data": {
      "text/html": [
       "<div>\n",
       "<style scoped>\n",
       "    .dataframe tbody tr th:only-of-type {\n",
       "        vertical-align: middle;\n",
       "    }\n",
       "\n",
       "    .dataframe tbody tr th {\n",
       "        vertical-align: top;\n",
       "    }\n",
       "\n",
       "    .dataframe thead th {\n",
       "        text-align: right;\n",
       "    }\n",
       "</style>\n",
       "<table border=\"1\" class=\"dataframe\">\n",
       "  <thead>\n",
       "    <tr style=\"text-align: right;\">\n",
       "      <th></th>\n",
       "      <th>Zip_Code</th>\n",
       "      <th>Request_Count_x</th>\n",
       "      <th>Request_Type_x</th>\n",
       "      <th>Request_Count_y</th>\n",
       "      <th>Request_Type_y</th>\n",
       "      <th>Request_Count</th>\n",
       "      <th>Request_Type</th>\n",
       "    </tr>\n",
       "  </thead>\n",
       "  <tbody>\n",
       "    <tr>\n",
       "      <th>0</th>\n",
       "      <td>37013</td>\n",
       "      <td>13836.0</td>\n",
       "      <td>phone</td>\n",
       "      <td>5696.0</td>\n",
       "      <td>online</td>\n",
       "      <td>57.0</td>\n",
       "      <td>other</td>\n",
       "    </tr>\n",
       "    <tr>\n",
       "      <th>1</th>\n",
       "      <td>37211</td>\n",
       "      <td>12751.0</td>\n",
       "      <td>phone</td>\n",
       "      <td>6077.0</td>\n",
       "      <td>online</td>\n",
       "      <td>61.0</td>\n",
       "      <td>other</td>\n",
       "    </tr>\n",
       "    <tr>\n",
       "      <th>2</th>\n",
       "      <td>37209</td>\n",
       "      <td>11103.0</td>\n",
       "      <td>phone</td>\n",
       "      <td>6455.0</td>\n",
       "      <td>online</td>\n",
       "      <td>47.0</td>\n",
       "      <td>other</td>\n",
       "    </tr>\n",
       "    <tr>\n",
       "      <th>3</th>\n",
       "      <td>37207</td>\n",
       "      <td>10712.0</td>\n",
       "      <td>phone</td>\n",
       "      <td>3575.0</td>\n",
       "      <td>online</td>\n",
       "      <td>38.0</td>\n",
       "      <td>other</td>\n",
       "    </tr>\n",
       "    <tr>\n",
       "      <th>4</th>\n",
       "      <td>37206</td>\n",
       "      <td>9877.0</td>\n",
       "      <td>phone</td>\n",
       "      <td>5803.0</td>\n",
       "      <td>online</td>\n",
       "      <td>36.0</td>\n",
       "      <td>other</td>\n",
       "    </tr>\n",
       "  </tbody>\n",
       "</table>\n",
       "</div>"
      ],
      "text/plain": [
       "  Zip_Code  Request_Count_x Request_Type_x  Request_Count_y Request_Type_y  \\\n",
       "0    37013          13836.0          phone           5696.0         online   \n",
       "1    37211          12751.0          phone           6077.0         online   \n",
       "2    37209          11103.0          phone           6455.0         online   \n",
       "3    37207          10712.0          phone           3575.0         online   \n",
       "4    37206           9877.0          phone           5803.0         online   \n",
       "\n",
       "   Request_Count Request_Type  \n",
       "0           57.0        other  \n",
       "1           61.0        other  \n",
       "2           47.0        other  \n",
       "3           38.0        other  \n",
       "4           36.0        other  "
      ]
     },
     "execution_count": 1057,
     "metadata": {},
     "output_type": "execute_result"
    }
   ],
   "source": [
    "merge2 = pd.merge(merge1, other_zip_df, on = 'Zip_Code', how='outer')\n",
    "merge2.head()"
   ]
  },
  {
   "cell_type": "code",
   "execution_count": 1058,
   "metadata": {},
   "outputs": [
    {
     "data": {
      "text/html": [
       "<div>\n",
       "<style scoped>\n",
       "    .dataframe tbody tr th:only-of-type {\n",
       "        vertical-align: middle;\n",
       "    }\n",
       "\n",
       "    .dataframe tbody tr th {\n",
       "        vertical-align: top;\n",
       "    }\n",
       "\n",
       "    .dataframe thead th {\n",
       "        text-align: right;\n",
       "    }\n",
       "</style>\n",
       "<table border=\"1\" class=\"dataframe\">\n",
       "  <thead>\n",
       "    <tr style=\"text-align: right;\">\n",
       "      <th></th>\n",
       "      <th>Zip_Code</th>\n",
       "      <th>Phone</th>\n",
       "      <th>Request_Type_x</th>\n",
       "      <th>Online</th>\n",
       "      <th>Request_Type_y</th>\n",
       "      <th>Other</th>\n",
       "      <th>Request_Type</th>\n",
       "    </tr>\n",
       "  </thead>\n",
       "  <tbody>\n",
       "    <tr>\n",
       "      <th>0</th>\n",
       "      <td>37013</td>\n",
       "      <td>13836.0</td>\n",
       "      <td>phone</td>\n",
       "      <td>5696.0</td>\n",
       "      <td>online</td>\n",
       "      <td>57.0</td>\n",
       "      <td>other</td>\n",
       "    </tr>\n",
       "    <tr>\n",
       "      <th>1</th>\n",
       "      <td>37211</td>\n",
       "      <td>12751.0</td>\n",
       "      <td>phone</td>\n",
       "      <td>6077.0</td>\n",
       "      <td>online</td>\n",
       "      <td>61.0</td>\n",
       "      <td>other</td>\n",
       "    </tr>\n",
       "    <tr>\n",
       "      <th>2</th>\n",
       "      <td>37209</td>\n",
       "      <td>11103.0</td>\n",
       "      <td>phone</td>\n",
       "      <td>6455.0</td>\n",
       "      <td>online</td>\n",
       "      <td>47.0</td>\n",
       "      <td>other</td>\n",
       "    </tr>\n",
       "    <tr>\n",
       "      <th>3</th>\n",
       "      <td>37207</td>\n",
       "      <td>10712.0</td>\n",
       "      <td>phone</td>\n",
       "      <td>3575.0</td>\n",
       "      <td>online</td>\n",
       "      <td>38.0</td>\n",
       "      <td>other</td>\n",
       "    </tr>\n",
       "    <tr>\n",
       "      <th>4</th>\n",
       "      <td>37206</td>\n",
       "      <td>9877.0</td>\n",
       "      <td>phone</td>\n",
       "      <td>5803.0</td>\n",
       "      <td>online</td>\n",
       "      <td>36.0</td>\n",
       "      <td>other</td>\n",
       "    </tr>\n",
       "  </tbody>\n",
       "</table>\n",
       "</div>"
      ],
      "text/plain": [
       "  Zip_Code    Phone Request_Type_x  Online Request_Type_y  Other Request_Type\n",
       "0    37013  13836.0          phone  5696.0         online   57.0        other\n",
       "1    37211  12751.0          phone  6077.0         online   61.0        other\n",
       "2    37209  11103.0          phone  6455.0         online   47.0        other\n",
       "3    37207  10712.0          phone  3575.0         online   38.0        other\n",
       "4    37206   9877.0          phone  5803.0         online   36.0        other"
      ]
     },
     "execution_count": 1058,
     "metadata": {},
     "output_type": "execute_result"
    }
   ],
   "source": [
    "#to replace null values & rename columns\n",
    "merge2 = merge2.rename(columns = {'Request_Count_x':'Phone','Request_Count_y':'Online','Request_Count':'Other'})\n",
    "merge2.head()"
   ]
  },
  {
   "cell_type": "code",
   "execution_count": 1059,
   "metadata": {},
   "outputs": [],
   "source": [
    "#drop columns\n",
    "merge2 = merge2[['Zip_Code','Phone','Online','Other']]"
   ]
  },
  {
   "cell_type": "code",
   "execution_count": 1060,
   "metadata": {},
   "outputs": [],
   "source": [
    "#filter columns (remove incorrect zips and strings)\n",
    "merge2 = merge2.loc[(merge2['Zip_Code'].notnull())&(merge2['Zip_Code'].astype(str) > '30000')&(merge2['Zip_Code'] != 'TN')]"
   ]
  },
  {
   "cell_type": "code",
   "execution_count": 1061,
   "metadata": {},
   "outputs": [
    {
     "data": {
      "text/plain": [
       "Zip_Code     0\n",
       "Phone       18\n",
       "Online       2\n",
       "Other       34\n",
       "dtype: int64"
      ]
     },
     "execution_count": 1061,
     "metadata": {},
     "output_type": "execute_result"
    }
   ],
   "source": [
    "#to check null values\n",
    "merge2.isnull().sum()"
   ]
  },
  {
   "cell_type": "code",
   "execution_count": 1062,
   "metadata": {},
   "outputs": [
    {
     "data": {
      "text/html": [
       "<div>\n",
       "<style scoped>\n",
       "    .dataframe tbody tr th:only-of-type {\n",
       "        vertical-align: middle;\n",
       "    }\n",
       "\n",
       "    .dataframe tbody tr th {\n",
       "        vertical-align: top;\n",
       "    }\n",
       "\n",
       "    .dataframe thead th {\n",
       "        text-align: right;\n",
       "    }\n",
       "</style>\n",
       "<table border=\"1\" class=\"dataframe\">\n",
       "  <thead>\n",
       "    <tr style=\"text-align: right;\">\n",
       "      <th></th>\n",
       "      <th>Zip_Code</th>\n",
       "      <th>Phone</th>\n",
       "      <th>Online</th>\n",
       "      <th>Other</th>\n",
       "    </tr>\n",
       "  </thead>\n",
       "  <tbody>\n",
       "    <tr>\n",
       "      <th>0</th>\n",
       "      <td>37013</td>\n",
       "      <td>13836.0</td>\n",
       "      <td>5696.0</td>\n",
       "      <td>57.0</td>\n",
       "    </tr>\n",
       "    <tr>\n",
       "      <th>1</th>\n",
       "      <td>37211</td>\n",
       "      <td>12751.0</td>\n",
       "      <td>6077.0</td>\n",
       "      <td>61.0</td>\n",
       "    </tr>\n",
       "    <tr>\n",
       "      <th>2</th>\n",
       "      <td>37209</td>\n",
       "      <td>11103.0</td>\n",
       "      <td>6455.0</td>\n",
       "      <td>47.0</td>\n",
       "    </tr>\n",
       "    <tr>\n",
       "      <th>3</th>\n",
       "      <td>37207</td>\n",
       "      <td>10712.0</td>\n",
       "      <td>3575.0</td>\n",
       "      <td>38.0</td>\n",
       "    </tr>\n",
       "    <tr>\n",
       "      <th>4</th>\n",
       "      <td>37206</td>\n",
       "      <td>9877.0</td>\n",
       "      <td>5803.0</td>\n",
       "      <td>36.0</td>\n",
       "    </tr>\n",
       "  </tbody>\n",
       "</table>\n",
       "</div>"
      ],
      "text/plain": [
       "  Zip_Code    Phone  Online  Other\n",
       "0    37013  13836.0  5696.0   57.0\n",
       "1    37211  12751.0  6077.0   61.0\n",
       "2    37209  11103.0  6455.0   47.0\n",
       "3    37207  10712.0  3575.0   38.0\n",
       "4    37206   9877.0  5803.0   36.0"
      ]
     },
     "execution_count": 1062,
     "metadata": {},
     "output_type": "execute_result"
    }
   ],
   "source": [
    "merge2.head()"
   ]
  },
  {
   "cell_type": "code",
   "execution_count": 1063,
   "metadata": {},
   "outputs": [],
   "source": [
    "#merge2['Zip_Code'] = merge2['Zip_Code'].astype(str)[0:5]"
   ]
  },
  {
   "cell_type": "code",
   "execution_count": 1064,
   "metadata": {},
   "outputs": [
    {
     "data": {
      "text/plain": [
       "Phone     74.0\n",
       "Online    36.0\n",
       "Other      3.0\n",
       "dtype: float64"
      ]
     },
     "execution_count": 1064,
     "metadata": {},
     "output_type": "execute_result"
    }
   ],
   "source": [
    "#only keep counts greater than 50 per type\n",
    "merge2 = merge2.loc[(merge2['Phone'] > 50)|(merge2['Other']>50)|(merge2['Online']>50)]\n",
    "merge2.min()"
   ]
  },
  {
   "cell_type": "code",
   "execution_count": 1065,
   "metadata": {},
   "outputs": [],
   "source": [
    "merge2 = merge2.sort_values(by = ['Zip_Code','Phone','Online','Other'])"
   ]
  },
  {
   "cell_type": "code",
   "execution_count": 1066,
   "metadata": {},
   "outputs": [
    {
     "data": {
      "text/html": [
       "<div>\n",
       "<style scoped>\n",
       "    .dataframe tbody tr th:only-of-type {\n",
       "        vertical-align: middle;\n",
       "    }\n",
       "\n",
       "    .dataframe tbody tr th {\n",
       "        vertical-align: top;\n",
       "    }\n",
       "\n",
       "    .dataframe thead th {\n",
       "        text-align: right;\n",
       "    }\n",
       "</style>\n",
       "<table border=\"1\" class=\"dataframe\">\n",
       "  <thead>\n",
       "    <tr style=\"text-align: right;\">\n",
       "      <th></th>\n",
       "      <th>Zip_Code</th>\n",
       "      <th>Phone</th>\n",
       "      <th>Online</th>\n",
       "      <th>Other</th>\n",
       "    </tr>\n",
       "  </thead>\n",
       "  <tbody>\n",
       "    <tr>\n",
       "      <th>0</th>\n",
       "      <td>37013</td>\n",
       "      <td>13836.0</td>\n",
       "      <td>5696.0</td>\n",
       "      <td>57.0</td>\n",
       "    </tr>\n",
       "    <tr>\n",
       "      <th>56</th>\n",
       "      <td>37015</td>\n",
       "      <td>91.0</td>\n",
       "      <td>71.0</td>\n",
       "      <td>NaN</td>\n",
       "    </tr>\n",
       "    <tr>\n",
       "      <th>26</th>\n",
       "      <td>37027</td>\n",
       "      <td>1938.0</td>\n",
       "      <td>743.0</td>\n",
       "      <td>6.0</td>\n",
       "    </tr>\n",
       "    <tr>\n",
       "      <th>40</th>\n",
       "      <td>37072</td>\n",
       "      <td>874.0</td>\n",
       "      <td>413.0</td>\n",
       "      <td>5.0</td>\n",
       "    </tr>\n",
       "    <tr>\n",
       "      <th>22</th>\n",
       "      <td>37076</td>\n",
       "      <td>2339.0</td>\n",
       "      <td>1850.0</td>\n",
       "      <td>11.0</td>\n",
       "    </tr>\n",
       "    <tr>\n",
       "      <th>...</th>\n",
       "      <td>...</td>\n",
       "      <td>...</td>\n",
       "      <td>...</td>\n",
       "      <td>...</td>\n",
       "    </tr>\n",
       "    <tr>\n",
       "      <th>31</th>\n",
       "      <td>37218</td>\n",
       "      <td>1711.0</td>\n",
       "      <td>378.0</td>\n",
       "      <td>20.0</td>\n",
       "    </tr>\n",
       "    <tr>\n",
       "      <th>55</th>\n",
       "      <td>37219</td>\n",
       "      <td>136.0</td>\n",
       "      <td>442.0</td>\n",
       "      <td>7.0</td>\n",
       "    </tr>\n",
       "    <tr>\n",
       "      <th>47</th>\n",
       "      <td>37220</td>\n",
       "      <td>425.0</td>\n",
       "      <td>171.0</td>\n",
       "      <td>13.0</td>\n",
       "    </tr>\n",
       "    <tr>\n",
       "      <th>43</th>\n",
       "      <td>37221</td>\n",
       "      <td>695.0</td>\n",
       "      <td>395.0</td>\n",
       "      <td>27.0</td>\n",
       "    </tr>\n",
       "    <tr>\n",
       "      <th>59</th>\n",
       "      <td>37228</td>\n",
       "      <td>78.0</td>\n",
       "      <td>51.0</td>\n",
       "      <td>NaN</td>\n",
       "    </tr>\n",
       "  </tbody>\n",
       "</table>\n",
       "<p>61 rows × 4 columns</p>\n",
       "</div>"
      ],
      "text/plain": [
       "    Zip_Code    Phone  Online  Other\n",
       "0      37013  13836.0  5696.0   57.0\n",
       "56     37015     91.0    71.0    NaN\n",
       "26     37027   1938.0   743.0    6.0\n",
       "40     37072    874.0   413.0    5.0\n",
       "22     37076   2339.0  1850.0   11.0\n",
       "..       ...      ...     ...    ...\n",
       "31     37218   1711.0   378.0   20.0\n",
       "55     37219    136.0   442.0    7.0\n",
       "47     37220    425.0   171.0   13.0\n",
       "43     37221    695.0   395.0   27.0\n",
       "59     37228     78.0    51.0    NaN\n",
       "\n",
       "[61 rows x 4 columns]"
      ]
     },
     "execution_count": 1066,
     "metadata": {},
     "output_type": "execute_result"
    }
   ],
   "source": [
    "merge2['Zip_Code'] = merge2['Zip_Code'].astype(int)\n",
    "merge2"
   ]
  },
  {
   "cell_type": "code",
   "execution_count": 1067,
   "metadata": {},
   "outputs": [
    {
     "name": "stderr",
     "output_type": "stream",
     "text": [
      "/Users/nicolemuldowney/opt/anaconda3/envs/geo/lib/python3.7/site-packages/ipykernel_launcher.py:2: FutureWarning: Indexing with multiple keys (implicitly converted to a tuple of keys) will be deprecated, use a list instead.\n",
      "  \n"
     ]
    },
    {
     "data": {
      "text/html": [
       "<div>\n",
       "<style scoped>\n",
       "    .dataframe tbody tr th:only-of-type {\n",
       "        vertical-align: middle;\n",
       "    }\n",
       "\n",
       "    .dataframe tbody tr th {\n",
       "        vertical-align: top;\n",
       "    }\n",
       "\n",
       "    .dataframe thead th {\n",
       "        text-align: right;\n",
       "    }\n",
       "</style>\n",
       "<table border=\"1\" class=\"dataframe\">\n",
       "  <thead>\n",
       "    <tr style=\"text-align: right;\">\n",
       "      <th></th>\n",
       "      <th>Zip_Code</th>\n",
       "      <th>Phone</th>\n",
       "      <th>Online</th>\n",
       "      <th>Other</th>\n",
       "    </tr>\n",
       "  </thead>\n",
       "  <tbody>\n",
       "    <tr>\n",
       "      <th>0</th>\n",
       "      <td>37013</td>\n",
       "      <td>17841.0</td>\n",
       "      <td>7686.0</td>\n",
       "      <td>138.0</td>\n",
       "    </tr>\n",
       "    <tr>\n",
       "      <th>1</th>\n",
       "      <td>37211</td>\n",
       "      <td>16386.0</td>\n",
       "      <td>8244.0</td>\n",
       "      <td>200.0</td>\n",
       "    </tr>\n",
       "    <tr>\n",
       "      <th>2</th>\n",
       "      <td>37209</td>\n",
       "      <td>14285.0</td>\n",
       "      <td>8649.0</td>\n",
       "      <td>174.0</td>\n",
       "    </tr>\n",
       "    <tr>\n",
       "      <th>3</th>\n",
       "      <td>37207</td>\n",
       "      <td>13943.0</td>\n",
       "      <td>4928.0</td>\n",
       "      <td>113.0</td>\n",
       "    </tr>\n",
       "    <tr>\n",
       "      <th>4</th>\n",
       "      <td>37206</td>\n",
       "      <td>12714.0</td>\n",
       "      <td>7289.0</td>\n",
       "      <td>162.0</td>\n",
       "    </tr>\n",
       "  </tbody>\n",
       "</table>\n",
       "</div>"
      ],
      "text/plain": [
       "   Zip_Code    Phone  Online  Other\n",
       "0     37013  17841.0  7686.0  138.0\n",
       "1     37211  16386.0  8244.0  200.0\n",
       "2     37209  14285.0  8649.0  174.0\n",
       "3     37207  13943.0  4928.0  113.0\n",
       "4     37206  12714.0  7289.0  162.0"
      ]
     },
     "execution_count": 1067,
     "metadata": {},
     "output_type": "execute_result"
    }
   ],
   "source": [
    "#need to group by zip code for duplicates\n",
    "merge2 = merge2.groupby(['Zip_Code'])['Phone','Online','Other'].sum().sort_values(by=['Phone'],ascending=False).reset_index()\n",
    "merge2.head()"
   ]
  },
  {
   "cell_type": "code",
   "execution_count": 1068,
   "metadata": {},
   "outputs": [],
   "source": [
    "#drop column \"Other\" and limit zip codes by calling .head()\n",
    "merge2 = merge2[['Zip_Code','Phone','Online']].head(30)"
   ]
  },
  {
   "cell_type": "code",
   "execution_count": 1069,
   "metadata": {},
   "outputs": [
    {
     "data": {
      "image/png": "[encoded data removed]",
      "text/plain": [
       "<Figure size 432x576 with 1 Axes>"
      ]
     },
     "metadata": {
      "needs_background": "light"
     },
     "output_type": "display_data"
    }
   ],
   "source": [
    "#stacked bar chart by request type\n",
    "colors = ['#2E3A90','#FFDD85','#00FFFF']\n",
    "ssfont = {'fontname':'sans-serif'}\n",
    "\n",
    "merge2.plot(kind='barh',x='Zip_Code',figsize = (6,8),stacked= True,width = .8,edgecolor = 'white',color = colors)\n",
    "plt.ylabel('')\n",
    "plt.xlabel('Number of Requests')\n",
    "plt.title('Request Origin by Zip Code',**ssfont)\n",
    "plt.legend(loc='upper right');"
   ]
  },
  {
   "cell_type": "code",
   "execution_count": 1071,
   "metadata": {},
   "outputs": [],
   "source": [
    "#Hub yellow color: #FFDD85\n",
    "#Hub blue color: #2E3A90\n",
    "#Font: Lato"
   ]
  },
  {
   "cell_type": "code",
   "execution_count": null,
   "metadata": {},
   "outputs": [],
   "source": [
    "merge2.to_csv('../data/merge2.csv',index= False)"
   ]
  }
 ],
 "metadata": {
  "kernelspec": {
   "display_name": "Python 3",
   "language": "python",
   "name": "python3"
  },
  "language_info": {
   "codemirror_mode": {
    "name": "ipython",
    "version": 3
   },
   "file_extension": ".py",
   "mimetype": "text/x-python",
   "name": "python",
   "nbconvert_exporter": "python",
   "pygments_lexer": "ipython3",
   "version": "3.7.6"
  }
 },
 "nbformat": 4,
 "nbformat_minor": 4
}
